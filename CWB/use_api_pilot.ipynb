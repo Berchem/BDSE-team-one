{
 "cells": [
  {
   "cell_type": "code",
   "execution_count": 20,
   "metadata": {},
   "outputs": [
    {
     "name": "stdout",
     "output_type": "stream",
     "text": [
      "https://opendata.cwb.gov.tw/api/v1/rest/datastore/?F-A0021-001&authorizationkey=CWB-16B230F0-B449-4AC0-A04E-2B3E8F5A7E03\n",
      "https://opendata.cwb.gov.tw/api/v1/rest/datastore/F-A0021-001?authorizationkey=CWB-16B230F0-B449-4AC0-A04E-2B3E8F5A7E03\n",
      "[u'records', u'result', u'success']\n",
      "[u'note', u'dataid', u'location']\n"
     ]
    }
   ],
   "source": [
    "import requests\n",
    "\"\"\"\n",
    "https://opendata.cwb.gov.tw/api/v1/rest/datastore/{dataid}?location\n",
    "Name={locationName}&elementName={elementName}&sort={sor\n",
    "t}&parameterName={parameterName}\n",
    "\"\"\"\n",
    "\n",
    "base_url = \"https://opendata.cwb.gov.tw/api/v1/rest/datastore/\"\n",
    "# base_url = \"http://opendata.cwb.gov.tw/opendataapi\"\n",
    "data_id = \"F-A0021-001\"\n",
    "key = \"authorizationkey=CWB-16B230F0-B449-4AC0-A04E-2B3E8F5A7E03\"\n",
    "\n",
    "\n",
    "url = \"%s?%s&%s\" % (base_url, data_id, key)\n",
    "print url\n",
    "url2 = \"%s%s?%s\" % (base_url, data_id, key)\n",
    "print url2\n",
    "re =requests.get(url2)\n",
    "obj = re.json()\n",
    "print obj.keys()\n",
    "print obj[u'records'].keys()\n"
   ]
  },
  {
   "cell_type": "code",
   "execution_count": 22,
   "metadata": {},
   "outputs": [],
   "source": [
    "import json\n",
    "\n",
    "with open(\"test.json\", \"w\") as f:\n",
    "    json.dump(obj, f, indent=4)"
   ]
  },
  {
   "cell_type": "code",
   "execution_count": 23,
   "metadata": {},
   "outputs": [
    {
     "name": "stdout",
     "output_type": "stream",
     "text": [
      "[u'records', u'result', u'success']\n"
     ]
    }
   ],
   "source": [
    "print obj.keys()"
   ]
  },
  {
   "cell_type": "code",
   "execution_count": null,
   "metadata": {},
   "outputs": [],
   "source": []
  }
 ],
 "metadata": {
  "kernelspec": {
   "display_name": "Python 2",
   "language": "python",
   "name": "python2"
  },
  "language_info": {
   "codemirror_mode": {
    "name": "ipython",
    "version": 2
   },
   "file_extension": ".py",
   "mimetype": "text/x-python",
   "name": "python",
   "nbconvert_exporter": "python",
   "pygments_lexer": "ipython2",
   "version": "2.7.15"
  }
 },
 "nbformat": 4,
 "nbformat_minor": 2
}
