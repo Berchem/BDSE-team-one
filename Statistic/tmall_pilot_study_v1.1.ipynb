{
 "cells": [
  {
   "cell_type": "code",
   "execution_count": 1,
   "metadata": {},
   "outputs": [],
   "source": [
    "import time\n",
    "import json\n",
    "import sqlite3\n",
    "import pandas as pd\n",
    "import matplotlib.pyplot as plt\n",
    "src = \"user_log_format1.csv\""
   ]
  },
  {
   "cell_type": "code",
   "execution_count": 2,
   "metadata": {},
   "outputs": [
    {
     "name": "stdout",
     "output_type": "stream",
     "text": [
      "load data\n",
      "runtime: 27.550575024077926\n"
     ]
    }
   ],
   "source": [
    "t0 = time.clock()\n",
    "df = pd.read_csv(src)\n",
    "print(\"load data\\nruntime:\", time.clock() - t0)"
   ]
  },
  {
   "cell_type": "code",
   "execution_count": 3,
   "metadata": {},
   "outputs": [
    {
     "name": "stdout",
     "output_type": "stream",
     "text": [
      "all purchase: (3292144, 7)\n",
      "unique purchase: (2939895, 7)\n"
     ]
    }
   ],
   "source": [
    "buy_raw = df.loc[df[\"action_type\"]==2]\n",
    "print(\"all purchase:\", buy_raw.shape)\n",
    "\n",
    "buy_unique = buy_raw.drop_duplicates(['user_id', 'item_id'])\n",
    "print(\"unique purchase:\", buy_unique.shape)\n"
   ]
  },
  {
   "cell_type": "code",
   "execution_count": 34,
   "metadata": {},
   "outputs": [
    {
     "name": "stdout",
     "output_type": "stream",
     "text": [
      "load data\n",
      "runtime: 27.247911753011522\n"
     ]
    }
   ],
   "source": [
    "dataset = []\n",
    "ct = 0\n",
    "t0 = time.clock()\n",
    "for ind, row in buy_unique.iterrows():\n",
    "    dataset += [df[(df.user_id == row[0]) & (df.item_id == row[1])].to_dict('list')]\n",
    "    ct += 1\n",
    "    if ct == 10000:\n",
    "        break\n",
    "print(\"load data\\nruntime:\", time.clock() - t0)"
   ]
  },
  {
   "cell_type": "code",
   "execution_count": 35,
   "metadata": {},
   "outputs": [],
   "source": [
    "with open('test.json', 'w') as f:\n",
    "    json.dump(dataset, f, indent=4)"
   ]
  },
  {
   "cell_type": "code",
   "execution_count": 36,
   "metadata": {},
   "outputs": [
    {
     "name": "stdout",
     "output_type": "stream",
     "text": [
      "2939895\n",
      "runtime: 20.9159\n"
     ]
    }
   ],
   "source": [
    "conn = sqlite3.connect(\"skycat.db\")\n",
    "\n",
    "t0 = time.clock()\n",
    "query = \"select distinct user_id, item_id from user_log_batch where action_type=2\"\n",
    "cursor = conn.execute(query)\n",
    "conn.commit()\n",
    "result = cursor.fetchall()\n",
    "print(len(result))\n",
    "print(\"runtime: %.4f\" % (time.clock() - t0))"
   ]
  },
  {
   "cell_type": "code",
   "execution_count": 37,
   "metadata": {},
   "outputs": [
    {
     "name": "stdout",
     "output_type": "stream",
     "text": [
      "(328862, 81766, 614, 4605, 7622, 709, 2)\n",
      "(328862, 81766, 614, 4605, 7622, 709, 0)\n",
      "(328862, 81766, 614, 4605, 7622, 801, 2)\n",
      "(328862, 81766, 614, 4605, 7622, 709, 0)\n",
      "(328862, 81766, 614, 4605, 7622, 709, 0)\n",
      "(328862, 81766, 614, 4605, 7622, 709, 0)\n",
      "(328862, 81766, 614, 4605, 7622, 801, 0)\n",
      "(328862, 81766, 614, 4605, 7622, 801, 0)\n",
      "(328862, 81766, 614, 4605, 7622, 709, 2)\n",
      "(328862, 81766, 614, 4605, 7622, 709, 0)\n",
      "(328862, 81766, 614, 4605, 7622, 801, 2)\n",
      "(328862, 81766, 614, 4605, 7622, 709, 0)\n",
      "(328862, 81766, 614, 4605, 7622, 709, 0)\n",
      "(328862, 81766, 614, 4605, 7622, 709, 0)\n",
      "(328862, 81766, 614, 4605, 7622, 801, 0)\n",
      "(328862, 81766, 614, 4605, 7622, 801, 0)\n"
     ]
    }
   ],
   "source": [
    "query = \"select * from user_log_batch where user_id=? and item_id=?;\"\n",
    "for i, r in enumerate(result):\n",
    "    cursor = conn.execute(query, r)\n",
    "    conn.commit()\n",
    "    subresult = cursor.fetchall()\n",
    "    for sr in subresult:\n",
    "        print(sr)\n",
    "    if i == 0:\n",
    "        break"
   ]
  },
  {
   "cell_type": "code",
   "execution_count": null,
   "metadata": {},
   "outputs": [],
   "source": []
  },
  {
   "cell_type": "code",
   "execution_count": null,
   "metadata": {
    "collapsed": true
   },
   "outputs": [],
   "source": [
    "dst = \"sliced_unique_purchase/\"\n",
    "buy_unique.iloc[0:1000000,:].to_csv(dst + 'p1.csv', index=False)\n",
    "buy_unique.iloc[1000000:2000000,:].to_csv(dst + 'p2.csv', index=False)\n",
    "buy_unique.iloc[2000000:2939895,:].to_csv(dst + 'p3.csv', index=False)\n",
    "buy_unique.to_csv(dst + \"all_purchase.csv\", index=0)"
   ]
  }
 ],
 "metadata": {
  "kernelspec": {
   "display_name": "Python 3",
   "language": "python",
   "name": "python3"
  },
  "language_info": {
   "codemirror_mode": {
    "name": "ipython",
    "version": 3
   },
   "file_extension": ".py",
   "mimetype": "text/x-python",
   "name": "python",
   "nbconvert_exporter": "python",
   "pygments_lexer": "ipython3",
   "version": "3.6.5"
  }
 },
 "nbformat": 4,
 "nbformat_minor": 2
}
